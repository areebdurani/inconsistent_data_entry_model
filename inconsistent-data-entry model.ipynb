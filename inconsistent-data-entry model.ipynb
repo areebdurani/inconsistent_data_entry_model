{
 "cells": [
  {
   "cell_type": "markdown",
   "metadata": {},
   "source": [
    "# Get our environment set up\n",
    "\n",
    "The first thing we'll need to do is load in the libraries and dataset we'll be using.  We use the same dataset from the tutorial."
   ]
  },
  {
   "cell_type": "code",
   "execution_count": 3,
   "metadata": {},
   "outputs": [
    {
     "name": "stdout",
     "output_type": "stream",
     "text": [
      "Collecting fuzzywuzzy\n",
      "  Downloading fuzzywuzzy-0.18.0-py2.py3-none-any.whl (18 kB)\n",
      "Installing collected packages: fuzzywuzzy\n",
      "Successfully installed fuzzywuzzy-0.18.0\n"
     ]
    }
   ],
   "source": [
    "!pip install fuzzywuzzy"
   ]
  },
  {
   "cell_type": "code",
   "execution_count": 4,
   "metadata": {},
   "outputs": [
    {
     "name": "stderr",
     "output_type": "stream",
     "text": [
      "C:\\Users\\LEGION\\anaconda3\\lib\\site-packages\\fuzzywuzzy\\fuzz.py:11: UserWarning: Using slow pure-python SequenceMatcher. Install python-Levenshtein to remove this warning\n",
      "  warnings.warn('Using slow pure-python SequenceMatcher. Install python-Levenshtein to remove this warning')\n"
     ]
    }
   ],
   "source": [
    "# modules we'll use\n",
    "import pandas as pd\n",
    "import numpy as np\n",
    "\n",
    "# helpful modules\n",
    "import fuzzywuzzy\n",
    "from fuzzywuzzy import process\n",
    "import chardet\n",
    "\n",
    "# read in all our data\n",
    "professors = pd.read_csv(\"pakistan_intellectual_capital.csv\")\n",
    "\n",
    "# set seed for reproducibility\n",
    "np.random.seed(0)"
   ]
  },
  {
   "cell_type": "code",
   "execution_count": 5,
   "metadata": {},
   "outputs": [
    {
     "name": "stdout",
     "output_type": "stream",
     "text": [
      "All done!\n"
     ]
    }
   ],
   "source": [
    "# convert to lower case\n",
    "professors['Country'] = professors['Country'].str.lower()\n",
    "# remove trailing white spaces\n",
    "professors['Country'] = professors['Country'].str.strip()\n",
    "\n",
    "# get the top 10 closest matches to \"south korea\"\n",
    "countries = professors['Country'].unique()\n",
    "matches = fuzzywuzzy.process.extract(\"south korea\", countries, limit=10, scorer=fuzzywuzzy.fuzz.token_sort_ratio)\n",
    "\n",
    "def replace_matches_in_column(df, column, string_to_match, min_ratio = 47):\n",
    "    # get a list of unique strings\n",
    "    strings = df[column].unique()\n",
    "    \n",
    "    # get the top 10 closest matches to our input string\n",
    "    matches = fuzzywuzzy.process.extract(string_to_match, strings, \n",
    "                                         limit=10, scorer=fuzzywuzzy.fuzz.token_sort_ratio)\n",
    "\n",
    "    # only get matches with a ratio > 90\n",
    "    close_matches = [matches[0] for matches in matches if matches[1] >= min_ratio]\n",
    "\n",
    "    # get the rows of all the close matches in our dataframe\n",
    "    rows_with_matches = df[column].isin(close_matches)\n",
    "\n",
    "    # replace all rows with close matches with the input matches \n",
    "    df.loc[rows_with_matches, column] = string_to_match\n",
    "    \n",
    "    # let us know the function's done\n",
    "    print(\"All done!\")\n",
    "    \n",
    "replace_matches_in_column(df=professors, column='Country', string_to_match=\"south korea\")\n",
    "countries = professors['Country'].unique()"
   ]
  },
  {
   "cell_type": "markdown",
   "metadata": {},
   "source": [
    "# 1) Examine another column\n",
    "\n",
    "Write code below to take a look at all the unique values in the \"Graduated from\" column."
   ]
  },
  {
   "cell_type": "code",
   "execution_count": 6,
   "metadata": {},
   "outputs": [
    {
     "data": {
      "text/plain": [
       "array(['Asian Institute of Technology',\n",
       "       'Balochistan University of Information Technology, Engineering and Management Sciences',\n",
       "       'University of Balochistan',\n",
       "       \"Sardar Bahadur Khan Women's University\",\n",
       "       'SRH Hochschule Heidelberg',\n",
       "       'Institute of Business Administration,Karachi', 'DUET,Karachi',\n",
       "       'University of Turbat', 'University of Vienna',\n",
       "       'Monash University', 'University of Stirling',\n",
       "       'Chinese Academy of Sciences', 'University of Innsbruck',\n",
       "       'Vienna University of Technology', 'University of Paris-Est',\n",
       "       'The University of Cambridge', 'Harbin Institute of Technology',\n",
       "       'University of Nice, Sophia Antipolis', 'The University of York',\n",
       "       'Galilée - Université Paris 13', 'University of Bedfordshire',\n",
       "       'North Dakota State University', 'Kyungpook National University',\n",
       "       'The University of Manchester',\n",
       "       'National University of Sciences and Technology',\n",
       "       'FAST– National University of Computer and Emerging Sciences',\n",
       "       'Capital University of Science & Technology', 'Gomal University',\n",
       "       'University of Malaya', 'KTH Royal Institute of Technology',\n",
       "       'University of Technology',\n",
       "       'COMSATS Institute of Information Technology',\n",
       "       'Government College University', 'Mohammad Ali Jinnah University',\n",
       "       'Shaheed Zulfikar Ali Bhutto Institute of Science and Technology',\n",
       "       'Blekinge Institute of Technology', 'University of Grenoble',\n",
       "       'Politecnico di Torino', '\\xa0University of Missouri, KC',\n",
       "       'University of Bonn', 'University of Paris',\n",
       "       'The University of Leeds', '\\xa0University of Windsor',\n",
       "       '\\xa0National University of Sciences and Technology-NIIT',\n",
       "       'University of Trento', 'Stockholm University',\n",
       "       'University of New South Wales, Sydney',\n",
       "       'Kingston University London', 'Griffith University',\n",
       "       'University of Salford', 'Loughborough University',\n",
       "       'International Islamic University,Islamabad',\n",
       "       'University of Central Missouri',\n",
       "       'Riphah International University', 'University of BedfordShire',\n",
       "       'University of Illinois', 'University Of Oslo',\n",
       "       'Nancy 2 University', 'University of Limerick',\n",
       "       'Ghulam Ishaq Khan Institute of Science and Technology',\n",
       "       'University Of Waterloo', 'University of Stuttgart',\n",
       "       'Liverpool John Moores University', 'University Of Caen',\n",
       "       'Paris Tech University of Eurecom', 'University Of Salford',\n",
       "       'Lahore University of Management Sciences',\n",
       "       'Dresden University Of Technology, Dresden\\xa0',\n",
       "       'COMSATS Institute of Information Technology,Vehari',\n",
       "       'COMSATS Institute of Information Technology,Wah Cantt',\n",
       "       'TU Berlin',\n",
       "       'FAST– National University of Computer and Emerging Sciences,Islamabad',\n",
       "       'Tsinghua University', 'The University of Auckland',\n",
       "       'IQRA University', 'Universiti Teknologi PETRONAS',\n",
       "       'COMSATS Institute of Information Technology,Islamabad',\n",
       "       'Razak School of Engineering and Advanced Technology, Universiti Teknologi Malaysia (UTM)',\n",
       "       'National University of Modern Languages',\n",
       "       'University of Engineering and Technology',\n",
       "       'University Institute of Information Technology',\n",
       "       'University of Arid Agriculture', 'Quaid-i-Azam University',\n",
       "       'Queen Mary University of London',\n",
       "       'Pakistan Institute of Engineering and Applied Sciences',\n",
       "       'Pohang University of Science and Technology',\n",
       "       'Uppsala University', 'Kyung Hee University',\n",
       "       'University of Liverpool', 'University of Sunderland',\n",
       "       'Mid Sweden University', 'Bahria University,Islamabad',\n",
       "       'Chosun University', 'University of Sussex',\n",
       "       'Paris Descartes University', 'University of Leicester',\n",
       "       'University of Porto', 'University of Manchester',\n",
       "       'Université Henri Poincaré, Nancy 1,', 'Bahria University',\n",
       "       'Centre for Advanced Studies in Engineering',\n",
       "       'Norwegian University of Science and Technology (NTNU),',\n",
       "       'The Islamia University of Bahawalpur ', 'Universiti Technologi',\n",
       "       'California State University', 'University of Genova',\n",
       "       'University of Engineering and Technology,Taxila',\n",
       "       'University of\\xa0Liverpool John Moores University', 'Guildford',\n",
       "       'University of Bradford', 'Graz University of Technology',\n",
       "       'Huazhong University of Science and Technology (HUST), Wuhan',\n",
       "       'University of Konstanz',\n",
       "       'National University of Modern Languages,Islamabad',\n",
       "       'FAST– National University of Computer and Emerging Sciences,Lahore',\n",
       "       'Gwangju Institute of Science and Technology',\n",
       "       'University of Birmingham', 'Manchester University',\n",
       "       'Beijing Institute of Technology', 'University of Paisley',\n",
       "       'Univ of Porto/Univ of Aveiro Portugal/Uni of Minho',\n",
       "       'University of Peshawar', 'Universität Salzburg',\n",
       "       'Colorado State University', 'University of Virginia',\n",
       "       'University of Orleans', 'Zhejiang University',\n",
       "       'University of Leeds', 'Foundation University',\n",
       "       'Barani Institute of Information Technology', 'Abasyn University',\n",
       "       'Pir Mehr Ali Shah Arid Agriculture University', 'Preston',\n",
       "       'University of Bergen', 'Universtiy of Lahore',\n",
       "       'HITEC University,Taxila', 'Allama Iqbal Open University',\n",
       "       'University of Wales,Aberystwyth', '\\xa0University of Bonn',\n",
       "       '\\xa0Hongik University',\n",
       "       'Skolkovo Institute of Science and Technology,\\xa0',\n",
       "       'Agricultural University Peshawar', 'National Textile University',\n",
       "       'FAST– National University of Computer and Emerging Sciences,Chiniot-Faisalabad',\n",
       "       'FAST– National University of Computer and Emerging Sciences,Peshawar',\n",
       "       '\\xa0Boston University', 'Brunel University',\n",
       "       'George Washington University', 'University of the Punjab',\n",
       "       '\\xa0University of Bedfordshire',\n",
       "       'University Of Southern California', 'Beihang University',\n",
       "       'Institute of Business Administration',\n",
       "       'Abdus Salam School of Mathematical Sciences,GC University',\n",
       "       'Linköping University',\n",
       "       'National College of Business Administration and Economics',\n",
       "       'Åbo Akademi University,', 'University of Central Punjab',\n",
       "       'University of Ulm', 'University of Agriculture',\n",
       "       'University of Notre Dame Indiana\\xa0',\n",
       "       'Punjab University College of Information Technology',\n",
       "       'Ilmenau University of Technology', ' Iowa State University',\n",
       "       ' University of Innsbruck', 'Vrije University, Amsterdam',\n",
       "       ' Columbia University', 'University of Freiburg',\n",
       "       ' Delft University of Technology',\n",
       "       ' University of Texas at Arlington (UTA)', ' University of Turin',\n",
       "       ' University of Central Florida', 'Saarland University',\n",
       "       'University of Central Florida', 'Oxford Brookes University',\n",
       "       'Information Technology University (ITU)',\n",
       "       'University of Canterbury', 'University of Patras',\n",
       "       'Middle East Technical University', 'University of Bristol',\n",
       "       'University of Southern California',\n",
       "       'Northeastern University,Boston', 'Purdue University',\n",
       "       'University of Plymouth', 'University of South Australia',\n",
       "       'Stanford University', 'Chalmers University of Technology',\n",
       "       'Massachusetts Institute of Technology',\n",
       "       'Sapienza University of Rome',\n",
       "       'Eindhoven University of Technology (TU/e)',\n",
       "       'United Nations University International Institute for Software Technology (UNU-IIST)',\n",
       "       'Georgetown University,DC', 'RWTH Aachen University',\n",
       "       'Columbia University',\n",
       "       'Rutgers State University of New Jersey, NJ',\n",
       "       'University of Florida', 'Technical University of Braunschweig',\n",
       "       'Carnegie Mellon University, Pittsburgh',\n",
       "       'The Ohio State University', 'National University of Singapore',\n",
       "       'University of British Columbia', 'University of Pittsburgh',\n",
       "       'The State University of New Jersey',\n",
       "       'The University of Texas at Austin',\n",
       "       'Imperial College, University of London',\n",
       "       'University of Colorado\\xa0', 'University of Bath',\n",
       "       'Tilburg University', 'Pompeu Fabra University Barcelona',\n",
       "       'University of Management and Technology',\n",
       "       'COMSATS Institute of Information Technology,Lahore',\n",
       "       'University of Agriculture, Faisalabad\\xa0',\n",
       "       'University of Engineering & Technology',\n",
       "       'University of Agriculture, Faisalabad',\n",
       "       'Fatima Jinnah Women University, Rawalpindi',\n",
       "       'Kohat University of Science & Technology, Kohat',\n",
       "       'Virtual University of Pakistan', 'Bahauddin Zakariya University',\n",
       "       'University of the Punjab,Gujranwala',\n",
       "       'Lahore College for Women University',\n",
       "       'Superior University, Lahore',\n",
       "       'Shaheed Zulfikar Ali Bhutto Institute of Science and Technology,Islamabad',\n",
       "       'University of South Florida', 'Politecnico di Milano',\n",
       "       'Abdul Wali Khan University, Mardan', 'University of Lahore',\n",
       "       'Minhaj University Lahore', 'Lahore Leads University',\n",
       "       'Middlesex University', 'Beijing Institute of Technology Beijing',\n",
       "       'Beaconhouse National University', 'Hamdard University',\n",
       "       'University Paris', 'Sindh University',\n",
       "       'NED University of Engineering And Technology',\n",
       "       'Staffordshire University', 'DePaul University, Chicago',\n",
       "       'University of Kent',\n",
       "       'Mehran University of Engineering & Technology',\n",
       "       'Quaid-e-Awam University of Engineering, Science & Technology',\n",
       "       'Shah Abdul Latif University, Khairpur',\n",
       "       'Sindh Agriculture University', 'Swansea',\n",
       "       'University of Shanghai for Science and Technology',\n",
       "       'Griffith University,Nathan Campus', 'University of Essex',\n",
       "       'Xiamen university', 'Wayne State University',\n",
       "       'The Queens University of Belfast', 'Sungkyunkwan University',\n",
       "       'Nanyang Tech University', \"Universite d'Evry Val d'Essonne\",\n",
       "       'Sir Syed University of Engineering and Technology',\n",
       "       'New York Institute of Technology', 'Fedral Urdu University',\n",
       "       'ISRA University', 'University of Karachi',\n",
       "       'South Asian University',\n",
       "       'Capital University of Science and Technology',\n",
       "       'University of Manchester Institute of Science and Technology',\n",
       "       'The University of Birmingham',\n",
       "       'Max Planck Institute for Computer Science',\n",
       "       'George Mason University', 'University of Southampton',\n",
       "       'Temple University', 'University of Bayreuth',\n",
       "       'Muroran Institute of Technology,Hokkaido',\n",
       "       'University of Bologna', 'International Islamic University',\n",
       "       'PAF-Karachi Institute of Economics and Technology',\n",
       "       'Institute of Business Administration,Sukkur',\n",
       "       'Myongji University', 'State University of New York System',\n",
       "       'SSindh Agriculture University', 'London University',\n",
       "       'Universiti Putra Malaysia Putra',\n",
       "       'University of Rome Tor Vergata', 'University of Mississippi\\xa0',\n",
       "       'University of Wales', 'University of Northampton',\n",
       "       'University of Abertay Dundee',\n",
       "       'Biztek Institute Of Business & Technology,Karachi',\n",
       "       'University of Surrey', 'Jinnah University for Women',\n",
       "       '\\xa0Nanyang Technological University',\n",
       "       'Tokyo Institute of Technology', 'NCSU',\n",
       "       'Usman Institute of Technology', 'Hanyang University, Ansan',\n",
       "       'BUKC', 'Universtiy of Karachi', 'Pace University, New York',\n",
       "       'INSA de Lyon, Rhone', 'University of Dundee',\n",
       "       'Illinois Institute of Technology',\n",
       "       'City University of Science and Technology',\n",
       "       'Usman Institute of Technology (Hamdard University)',\n",
       "       'University of Malaga', 'Manchester Metropolitan University',\n",
       "       'Kyushu University,Fukuoka',\n",
       "       'King Abdullah University of Science and Technology',\n",
       "       'INRIA Saclay Ile-de-France', 'Université de la Rochelle',\n",
       "       'University of South Brittany', 'Aston University, Birmingham',\n",
       "       'University of Agriculture Faisalabad',\n",
       "       'Hamburg University of Technology',\n",
       "       'Government College University, Faisalabad', 'JKU',\n",
       "       'University of Oviedo',\n",
       "       'Beijing University of Posts & Telecommunications',\n",
       "       'Government College University,Faisalabad',\n",
       "       'Nottingham Trent University', 'University of Glasgow',\n",
       "       'Coventry University',\n",
       "       'Riphah International University,Faisalabad',\n",
       "       'Australian National University, Caneberra',\n",
       "       'Swedish University of Agricultural Sciences, Uppsala',\n",
       "       'University of Gujrat', 'IQRA University,Islamabad',\n",
       "       'Jonkoping University', 'Colorado Technical University',\n",
       "       'Cranfield University', 'Technical University of Graz',\n",
       "       'University of York', 'Brock University Canada',\n",
       "       'University of Westminster', 'University of Saarland',\n",
       "       'The University of Queensland', 'University of Rochester',\n",
       "       'Islamia College University ',\n",
       "       'IBMS KP Agricultural University Peshawar',\n",
       "       'University of Kuala Lumpur', 'University of Regina', 'TU Wien',\n",
       "       'Swinburne University Of Technology',\n",
       "       'Institute Of Managment Sciences, Peshawar',\n",
       "       'Universiti Tun Hussein Onn Malaysia',\n",
       "       'Institute of Management Sciences, Peshawar',\n",
       "       'University of Huddersfield',\n",
       "       'University of Engineering and Technology,Peshawar',\n",
       "       'IQRA University,Karachi', 'John Moorse University, Liverpool',\n",
       "       'CECOS University of Information Technology and Emerging Sciences,Peshawar',\n",
       "       'University of the West Scotland', 'Concordia University,Montreal',\n",
       "       'JNU', 'Grenoble', 'Florida Atlantic University',\n",
       "       'Seoul National University'], dtype=object)"
      ]
     },
     "execution_count": 6,
     "metadata": {},
     "output_type": "execute_result"
    }
   ],
   "source": [
    "# TODO: Your code here\n",
    "grad_form = professors['Graduated from'].unique()\n",
    "\n",
    "grad_form"
   ]
  },
  {
   "cell_type": "markdown",
   "metadata": {},
   "source": [
    "# 2) Do some text pre-processing\n",
    "\n",
    "Convert every entry in the \"Graduated from\" column in the `professors` DataFrame to remove white spaces at the beginning and end of cells."
   ]
  },
  {
   "cell_type": "code",
   "execution_count": 8,
   "metadata": {},
   "outputs": [],
   "source": [
    "# TODO: Your code here\n",
    "professors['Graduated from'] = professors['Graduated from'].str.strip()\n"
   ]
  },
  {
   "cell_type": "markdown",
   "metadata": {},
   "source": [
    "# 3) Continue working with countries\n"
   ]
  },
  {
   "cell_type": "code",
   "execution_count": 9,
   "metadata": {},
   "outputs": [
    {
     "data": {
      "text/plain": [
       "array(['australia', 'austria', 'canada', 'china', 'finland', 'france',\n",
       "       'germany', 'greece', 'hongkong', 'ireland', 'italy', 'japan',\n",
       "       'macau', 'malaysia', 'mauritius', 'netherland', 'new zealand',\n",
       "       'norway', 'pakistan', 'portugal', 'russian federation',\n",
       "       'saudi arabia', 'scotland', 'singapore', 'south korea', 'spain',\n",
       "       'sweden', 'thailand', 'turkey', 'uk', 'urbana', 'usa', 'usofa'],\n",
       "      dtype=object)"
      ]
     },
     "execution_count": 9,
     "metadata": {},
     "output_type": "execute_result"
    }
   ],
   "source": [
    "# get all the unique values in the 'City' column\n",
    "countries = professors['Country'].unique()\n",
    "\n",
    "# sort them alphabetically and then take a closer look\n",
    "countries.sort()\n",
    "countries"
   ]
  },
  {
   "cell_type": "code",
   "execution_count": 10,
   "metadata": {},
   "outputs": [
    {
     "name": "stdout",
     "output_type": "stream",
     "text": [
      "All done!\n"
     ]
    }
   ],
   "source": [
    "# TODO: Your code here!\n",
    "matches = fuzzywuzzy.process.extract('usa', countries, limit=10, scorer=fuzzywuzzy.fuzz.token_sort_ratio)\n",
    "replace_matches_in_column(df=professors, column='Country', string_to_match='usa', min_ratio=70)"
   ]
  }
 ],
 "metadata": {
  "kernelspec": {
   "display_name": "Python 3",
   "language": "python",
   "name": "python3"
  },
  "language_info": {
   "codemirror_mode": {
    "name": "ipython",
    "version": 3
   },
   "file_extension": ".py",
   "mimetype": "text/x-python",
   "name": "python",
   "nbconvert_exporter": "python",
   "pygments_lexer": "ipython3",
   "version": "3.8.5"
  }
 },
 "nbformat": 4,
 "nbformat_minor": 4
}
